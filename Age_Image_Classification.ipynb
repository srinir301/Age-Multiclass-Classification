{
  "cells": [
    {
      "cell_type": "code",
      "execution_count": 22,
      "metadata": {
        "id": "z6OISnqLnjOT"
      },
      "outputs": [],
      "source": [
        "# Importing all packages\n",
        "import shutil\n",
        "import cv2\n",
        "import os\n",
        "import sys\n",
        "# module_path = os.path.abspath(os.path.join(os.pardir, os.pardir))\n",
        "# if module_path not in sys.path:\n",
        "#     sys.path.append(module_path)\n",
        "\n",
        "import numpy as np\n",
        "import pandas as pd\n",
        "import matplotlib.pyplot as plt\n",
        "%matplotlib inline\n",
        "import matplotlib.image as mpimg\n",
        "import seaborn as sns\n",
        "\n",
        "from sklearn.metrics import confusion_matrix, ConfusionMatrixDisplay, classification_report\n",
        "from sklearn import preprocessing\n",
        "import tensorflow as tf\n",
        "from tensorflow import keras\n",
        "from tensorflow.keras.layers import MaxPooling2D\n",
        "from keras.applications.vgg16 import VGG16\n",
        "from keras.applications import VGG19\n",
        "from keras.preprocessing.image import ImageDataGenerator\n",
        "from keras.layers import Conv2D, MaxPool2D, Dense, Flatten, Dropout, BatchNormalization, Activation, Input\n",
        "from keras.models import Sequential\n",
        "from keras.callbacks import EarlyStopping\n",
        "from keras import regularizers\n",
        "from keras.wrappers.scikit_learn import KerasClassifier\n",
        "\n",
        "import warnings\n",
        "warnings.filterwarnings(\"ignore\")\n",
        "\n",
        "from keras import layers\n",
        "from keras import models\n",
        "from keras import optimizers\n",
        "\n",
        "from sklearn.utils.class_weight import compute_class_weight\n",
        "import joblib\n",
        "from sklearn.metrics import accuracy_score\n",
        "from sklearn.model_selection import train_test_split\n",
        "import random"
      ]
    },
    {
      "cell_type": "code",
      "execution_count": 2,
      "metadata": {
        "colab": {
          "base_uri": "https://localhost:8080/"
        },
        "id": "lvQWw0W685bQ",
        "outputId": "6e8b5179-6589-4e13-a39a-ad62ac93b397"
      },
      "outputs": [
        {
          "output_type": "stream",
          "name": "stdout",
          "text": [
            "Mounted at /content/drive\n"
          ]
        }
      ],
      "source": [
        "# Connecting to google drive\n",
        "from google.colab import drive\n",
        "drive.mount('/content/drive')"
      ]
    },
    {
      "cell_type": "code",
      "execution_count": 3,
      "metadata": {
        "colab": {
          "base_uri": "https://localhost:8080/"
        },
        "id": "81Zo2Szw9SwH",
        "outputId": "ad787042-a910-4e86-a1e4-3f790d4c1b74"
      },
      "outputs": [
        {
          "output_type": "stream",
          "name": "stdout",
          "text": [
            "/content/drive/MyDrive/Colab_Notebooks\n"
          ]
        }
      ],
      "source": [
        "# Directing Google drive to Colab_Notebooks folder\n",
        "%cd /content/drive/MyDrive/Colab_Notebooks/"
      ]
    },
    {
      "cell_type": "code",
      "execution_count": null,
      "metadata": {
        "id": "e5u-pM9p9OFO"
      },
      "outputs": [],
      "source": [
        "# Direct Google drive to the Images folder in the Colab_Notebook folder\n",
        "base = '/content/drive/MyDrive/Colab_Notebooks/Images/'\n",
        "# Creating subdirectories (young_age, middle_age, old_age) within the base folder\n",
        "young_age_dir = os.path.join(base, 'young_age')\n",
        "middle_age_dir = os.path.join(base, 'middle_age')\n",
        "old_age_dir = os.path.join(base, 'old_age')\n",
        "# Setting the age limit for each class\n",
        "young_age_threshold = 30\n",
        "old_age_threshold = 60\n",
        "# Creating young, middle, and old age folders if it is not created\n",
        "if not os.path.exists(young_age_dir):\n",
        "  os.makedirs(young_age_dir)\n",
        "if not os.path.exists(middle_age_dir):\n",
        "  os.makedirs(middle_age_dir)\n",
        "if not os.path.exists(old_age_dir):\n",
        "  os.makedirs(old_age_dir)\n",
        "# Moving the .jpg files to the appropriate age group\n",
        "# young_age is between 0-29, middle_age is between 30-59, old_age is from 60-90+\n",
        "for filename in os.listdir(base):\n",
        "  if filename.endswith('.jpg'):\n",
        "    age = int(filename.split('_')[0])\n",
        "    if age < young_age_threshold:\n",
        "      shutil.move(os.path.join(base, filename), os.path.join(young_age_dir, filename))\n",
        "    elif age < old_age_threshold:\n",
        "      shutil.move(os.path.join(base, filename), os.path.join(middle_age_dir, filename))\n",
        "    else:\n",
        "      shutil.move(os.path.join(base, filename), os.path.join(old_age_dir, filename))"
      ]
    },
    {
      "cell_type": "code",
      "execution_count": null,
      "metadata": {
        "id": "ri4fkkFZFyAj"
      },
      "outputs": [],
      "source": [
        "# Renaming the files with the age class in front of the file name (young_, middle_, old_)\n",
        "for filename in os.listdir(young_age_dir):\n",
        "  if filename.endswith('.jpg'):\n",
        "    os.rename(os.path.join(young_age_dir, filename), os.path.join(young_age_dir, 'young_' + filename))\n",
        "\n",
        "for filename in os.listdir(middle_age_dir):\n",
        "  if filename.endswith('.jpg'):\n",
        "    os.rename(os.path.join(middle_age_dir, filename), os.path.join(middle_age_dir, 'middle_' + filename))\n",
        "\n",
        "for filename in os.listdir(old_age_dir):\n",
        "  if filename.endswith('.jpg'):\n",
        "    os.rename(os.path.join(old_age_dir, filename), os.path.join(old_age_dir, 'old_' + filename))"
      ]
    },
    {
      "cell_type": "code",
      "execution_count": null,
      "metadata": {
        "colab": {
          "base_uri": "https://localhost:8080/",
          "height": 424
        },
        "id": "ducFw3q-HDXD",
        "outputId": "a2c461e6-1515-4c13-e933-ff7d732494ce"
      },
      "outputs": [
        {
          "data": {
            "text/html": [
              "\n",
              "  <div id=\"df-e3f26043-917a-47fb-8dca-d3ddea75d6fe\">\n",
              "    <div class=\"colab-df-container\">\n",
              "      <div>\n",
              "<style scoped>\n",
              "    .dataframe tbody tr th:only-of-type {\n",
              "        vertical-align: middle;\n",
              "    }\n",
              "\n",
              "    .dataframe tbody tr th {\n",
              "        vertical-align: top;\n",
              "    }\n",
              "\n",
              "    .dataframe thead th {\n",
              "        text-align: right;\n",
              "    }\n",
              "</style>\n",
              "<table border=\"1\" class=\"dataframe\">\n",
              "  <thead>\n",
              "    <tr style=\"text-align: right;\">\n",
              "      <th></th>\n",
              "      <th>filename</th>\n",
              "      <th>age</th>\n",
              "    </tr>\n",
              "  </thead>\n",
              "  <tbody>\n",
              "    <tr>\n",
              "      <th>0</th>\n",
              "      <td>young_22_0_0_20170104214301269.jpg</td>\n",
              "      <td>young_age</td>\n",
              "    </tr>\n",
              "    <tr>\n",
              "      <th>1</th>\n",
              "      <td>young_28_0_3_20170104215712759.jpg</td>\n",
              "      <td>young_age</td>\n",
              "    </tr>\n",
              "    <tr>\n",
              "      <th>2</th>\n",
              "      <td>young_28_0_3_20170104220743173.jpg</td>\n",
              "      <td>young_age</td>\n",
              "    </tr>\n",
              "    <tr>\n",
              "      <th>3</th>\n",
              "      <td>young_27_1_3_20170104223405095.jpg</td>\n",
              "      <td>young_age</td>\n",
              "    </tr>\n",
              "    <tr>\n",
              "      <th>4</th>\n",
              "      <td>young_10_1_3_20170104221633430.jpg</td>\n",
              "      <td>young_age</td>\n",
              "    </tr>\n",
              "    <tr>\n",
              "      <th>...</th>\n",
              "      <td>...</td>\n",
              "      <td>...</td>\n",
              "    </tr>\n",
              "    <tr>\n",
              "      <th>4026</th>\n",
              "      <td>old_65_0_0_20170111195233409.jpg</td>\n",
              "      <td>old_age</td>\n",
              "    </tr>\n",
              "    <tr>\n",
              "      <th>4027</th>\n",
              "      <td>old_65_0_0_20170111195430569.jpg</td>\n",
              "      <td>old_age</td>\n",
              "    </tr>\n",
              "    <tr>\n",
              "      <th>4028</th>\n",
              "      <td>old_72_0_0_20170111195358992.jpg</td>\n",
              "      <td>old_age</td>\n",
              "    </tr>\n",
              "    <tr>\n",
              "      <th>4029</th>\n",
              "      <td>old_65_0_0_20170111195412945.jpg</td>\n",
              "      <td>old_age</td>\n",
              "    </tr>\n",
              "    <tr>\n",
              "      <th>4030</th>\n",
              "      <td>old_66_0_1_20170111195703017.jpg</td>\n",
              "      <td>old_age</td>\n",
              "    </tr>\n",
              "  </tbody>\n",
              "</table>\n",
              "<p>4031 rows × 2 columns</p>\n",
              "</div>\n",
              "      <button class=\"colab-df-convert\" onclick=\"convertToInteractive('df-e3f26043-917a-47fb-8dca-d3ddea75d6fe')\"\n",
              "              title=\"Convert this dataframe to an interactive table.\"\n",
              "              style=\"display:none;\">\n",
              "        \n",
              "  <svg xmlns=\"http://www.w3.org/2000/svg\" height=\"24px\"viewBox=\"0 0 24 24\"\n",
              "       width=\"24px\">\n",
              "    <path d=\"M0 0h24v24H0V0z\" fill=\"none\"/>\n",
              "    <path d=\"M18.56 5.44l.94 2.06.94-2.06 2.06-.94-2.06-.94-.94-2.06-.94 2.06-2.06.94zm-11 1L8.5 8.5l.94-2.06 2.06-.94-2.06-.94L8.5 2.5l-.94 2.06-2.06.94zm10 10l.94 2.06.94-2.06 2.06-.94-2.06-.94-.94-2.06-.94 2.06-2.06.94z\"/><path d=\"M17.41 7.96l-1.37-1.37c-.4-.4-.92-.59-1.43-.59-.52 0-1.04.2-1.43.59L10.3 9.45l-7.72 7.72c-.78.78-.78 2.05 0 2.83L4 21.41c.39.39.9.59 1.41.59.51 0 1.02-.2 1.41-.59l7.78-7.78 2.81-2.81c.8-.78.8-2.07 0-2.86zM5.41 20L4 18.59l7.72-7.72 1.47 1.35L5.41 20z\"/>\n",
              "  </svg>\n",
              "      </button>\n",
              "      \n",
              "  <style>\n",
              "    .colab-df-container {\n",
              "      display:flex;\n",
              "      flex-wrap:wrap;\n",
              "      gap: 12px;\n",
              "    }\n",
              "\n",
              "    .colab-df-convert {\n",
              "      background-color: #E8F0FE;\n",
              "      border: none;\n",
              "      border-radius: 50%;\n",
              "      cursor: pointer;\n",
              "      display: none;\n",
              "      fill: #1967D2;\n",
              "      height: 32px;\n",
              "      padding: 0 0 0 0;\n",
              "      width: 32px;\n",
              "    }\n",
              "\n",
              "    .colab-df-convert:hover {\n",
              "      background-color: #E2EBFA;\n",
              "      box-shadow: 0px 1px 2px rgba(60, 64, 67, 0.3), 0px 1px 3px 1px rgba(60, 64, 67, 0.15);\n",
              "      fill: #174EA6;\n",
              "    }\n",
              "\n",
              "    [theme=dark] .colab-df-convert {\n",
              "      background-color: #3B4455;\n",
              "      fill: #D2E3FC;\n",
              "    }\n",
              "\n",
              "    [theme=dark] .colab-df-convert:hover {\n",
              "      background-color: #434B5C;\n",
              "      box-shadow: 0px 1px 3px 1px rgba(0, 0, 0, 0.15);\n",
              "      filter: drop-shadow(0px 1px 2px rgba(0, 0, 0, 0.3));\n",
              "      fill: #FFFFFF;\n",
              "    }\n",
              "  </style>\n",
              "\n",
              "      <script>\n",
              "        const buttonEl =\n",
              "          document.querySelector('#df-e3f26043-917a-47fb-8dca-d3ddea75d6fe button.colab-df-convert');\n",
              "        buttonEl.style.display =\n",
              "          google.colab.kernel.accessAllowed ? 'block' : 'none';\n",
              "\n",
              "        async function convertToInteractive(key) {\n",
              "          const element = document.querySelector('#df-e3f26043-917a-47fb-8dca-d3ddea75d6fe');\n",
              "          const dataTable =\n",
              "            await google.colab.kernel.invokeFunction('convertToInteractive',\n",
              "                                                     [key], {});\n",
              "          if (!dataTable) return;\n",
              "\n",
              "          const docLinkHtml = 'Like what you see? Visit the ' +\n",
              "            '<a target=\"_blank\" href=https://colab.research.google.com/notebooks/data_table.ipynb>data table notebook</a>'\n",
              "            + ' to learn more about interactive tables.';\n",
              "          element.innerHTML = '';\n",
              "          dataTable['output_type'] = 'display_data';\n",
              "          await google.colab.output.renderOutput(dataTable, element);\n",
              "          const docLink = document.createElement('div');\n",
              "          docLink.innerHTML = docLinkHtml;\n",
              "          element.appendChild(docLink);\n",
              "        }\n",
              "      </script>\n",
              "    </div>\n",
              "  </div>\n",
              "  "
            ],
            "text/plain": [
              "                                filename        age\n",
              "0     young_22_0_0_20170104214301269.jpg  young_age\n",
              "1     young_28_0_3_20170104215712759.jpg  young_age\n",
              "2     young_28_0_3_20170104220743173.jpg  young_age\n",
              "3     young_27_1_3_20170104223405095.jpg  young_age\n",
              "4     young_10_1_3_20170104221633430.jpg  young_age\n",
              "...                                  ...        ...\n",
              "4026    old_65_0_0_20170111195233409.jpg    old_age\n",
              "4027    old_65_0_0_20170111195430569.jpg    old_age\n",
              "4028    old_72_0_0_20170111195358992.jpg    old_age\n",
              "4029    old_65_0_0_20170111195412945.jpg    old_age\n",
              "4030    old_66_0_1_20170111195703017.jpg    old_age\n",
              "\n",
              "[4031 rows x 2 columns]"
            ]
          },
          "execution_count": 8,
          "metadata": {},
          "output_type": "execute_result"
        }
      ],
      "source": [
        "# Creating a path to the Images folder\n",
        "path_to_folder = '/content/drive/MyDrive/Colab_Notebooks/Images'\n",
        "# Moving the subfolders into the Images folder\n",
        "young_age_dir = os.path.join(path_to_folder, 'young_age')\n",
        "middle_age_dir = os.path.join(path_to_folder, 'middle_age')\n",
        "old_age_dir = os.path.join(path_to_folder, 'old_age')\n",
        "# Creating the classes for the age column of the data frame\n",
        "categories = ['young_age', 'middle_age', 'old_age']\n",
        "# Creating a data frame with the filename as the ID and age as the classes\n",
        "data = []\n",
        "\n",
        "for category in categories:\n",
        "    folder_path = os.path.join(path_to_folder, category)\n",
        "    for filename in os.listdir(folder_path):\n",
        "        new_filename = category.split('_')[0] + '_' + '_'.join(filename.split('_')[1:])\n",
        "        data.append([new_filename, category])\n",
        "\n",
        "df = pd.DataFrame(data, columns=['filename', 'age'])\n",
        "df"
      ]
    },
    {
      "cell_type": "code",
      "execution_count": null,
      "metadata": {
        "id": "pZmmAYH7I7hI"
      },
      "outputs": [],
      "source": [
        "# Saving the DataFrame as pickle file\n",
        "df.to_pickle('Age.pkl')"
      ]
    },
    {
      "cell_type": "code",
      "execution_count": null,
      "metadata": {
        "colab": {
          "base_uri": "https://localhost:8080/"
        },
        "id": "7D6qYkifwp5X",
        "outputId": "d0862229-dc8b-4447-853c-b67f311bd067"
      },
      "outputs": [
        {
          "name": "stdout",
          "output_type": "stream",
          "text": [
            "1360\n",
            "1407\n",
            "1264\n"
          ]
        }
      ],
      "source": [
        "# Looking at the amount of pictures in each class folder\n",
        "print(len(os.listdir(young_age_dir)))\n",
        "print(len(os.listdir(middle_age_dir)))\n",
        "print(len(os.listdir(old_age_dir)))"
      ]
    },
    {
      "cell_type": "code",
      "execution_count": null,
      "metadata": {
        "colab": {
          "base_uri": "https://localhost:8080/",
          "height": 499
        },
        "id": "NJ_sp3pXJNY_",
        "outputId": "640592d8-61fd-4c2b-83ca-cab1380b0323"
      },
      "outputs": [
        {
          "data": {
            "image/png": "[encoded data removed]",
            "text/plain": [
              "<Figure size 640x480 with 1 Axes>"
            ]
          },
          "metadata": {},
          "output_type": "display_data"
        }
      ],
      "source": [
        "# Looking at the distribution of pictures for each class subfolder\n",
        "# The classes seem balanced\n",
        "category_counts = df['age'].value_counts()\n",
        "category_counts = category_counts.reindex(['young_age', 'middle_age', 'old_age'])\n",
        "category_counts.plot.bar()\n",
        "labels = ['Young Age', 'Middle Age', 'Old Age']\n",
        "plt.gca().set_xticklabels(labels, rotation=0)\n",
        "plt.xlabel('Age Range', labelpad=15)\n",
        "plt.ylabel('Count', labelpad=15)\n",
        "plt.title('Counts per Age Range', pad=15);"
      ]
    },
    {
      "cell_type": "code",
      "execution_count": null,
      "metadata": {
        "id": "O1o8dLqzAfLE"
      },
      "outputs": [],
      "source": [
        "# Doing a train test validation split with all the images and making the train, test, val folder with the class subfolders in each of the folders\n",
        "\n",
        "# Test folder\n",
        "source_dir_young = '/content/drive/MyDrive/Colab_Notebooks/Images/young_age'\n",
        "test_dest_dir_young = '/content/drive/MyDrive/Colab_Notebooks/Images/Test/young_age'\n",
        "\n",
        "if not os.path.exists(test_dest_dir_young):\n",
        "  os.makedirs(test_dest_dir_young)\n",
        "\n",
        "file_list1 = [f for f in os.listdir(source_dir_young) if f.endswith('.jpg')]\n",
        "\n",
        "num_files1 = int(len(file_list1) * 0.1)\n",
        "\n",
        "files_to_move1 = random.sample(file_list1, num_files1)\n",
        "\n",
        "for file in files_to_move1:\n",
        "  src_file_1 = os.path.join(source_dir_young, file)\n",
        "  dest_file_1 = os.path.join(test_dest_dir_young, file)\n",
        "  shutil.move(src_file_1, dest_file_1)\n",
        "\n",
        "\n",
        "source_dir_middle = '/content/drive/MyDrive/Colab_Notebooks/Images/middle_age'\n",
        "test_dest_dir_middle = '/content/drive/MyDrive/Colab_Notebooks/Images/Test/middle_age'\n",
        "\n",
        "if not os.path.exists(test_dest_dir_middle):\n",
        "  os.makedirs(test_dest_dir_middle)\n",
        "\n",
        "file_list2 = [f for f in os.listdir(source_dir_middle) if f.endswith('.jpg')]\n",
        "\n",
        "num_files2 = int(len(file_list2) * 0.1)\n",
        "\n",
        "files_to_move2 = random.sample(file_list2, num_files2)\n",
        "\n",
        "for file in files_to_move2:\n",
        "  src_file_2 = os.path.join(source_dir_middle, file)\n",
        "  dest_file_2 = os.path.join(test_dest_dir_middle, file)\n",
        "  shutil.move(src_file_2, dest_file_2)\n",
        "\n",
        "source_dir_old = '/content/drive/MyDrive/Colab_Notebooks/Images/old_age'\n",
        "test_dest_dir_old = '/content/drive/MyDrive/Colab_Notebooks/Images/Test/old_age'\n",
        "\n",
        "if not os.path.exists(test_dest_dir_old):\n",
        "  os.makedirs(test_dest_dir_old)\n",
        "\n",
        "file_list3 = [f for f in os.listdir(source_dir_old) if f.endswith('.jpg')]\n",
        "\n",
        "num_files3 = int(len(file_list3) * 0.1)\n",
        "\n",
        "files_to_move3 = random.sample(file_list3, num_files3)\n",
        "\n",
        "for file in files_to_move3:\n",
        "  src_file_3 = os.path.join(source_dir_old, file)\n",
        "  dest_file_3 = os.path.join(test_dest_dir_old, file)\n",
        "  shutil.move(src_file_3, dest_file_3)\n",
        "\n",
        "# Train folder\n",
        "train_dest_dir_old = '/content/drive/MyDrive/Colab_Notebooks/Images/Train/old_age'\n",
        "\n",
        "if not os.path.exists(train_dest_dir_old):\n",
        "  os.makedirs(train_dest_dir_old)\n",
        "\n",
        "file_list4 = [f for f in os.listdir(source_dir_old) if f.endswith('.jpg')]\n",
        "\n",
        "num_files4 = int(len(file_list4) * 1)\n",
        "\n",
        "files_to_move4 = random.sample(file_list4, num_files4)\n",
        "\n",
        "for file in files_to_move4:\n",
        "  src_file_4 = os.path.join(source_dir_old, file)\n",
        "  dest_file_4 = os.path.join(train_dest_dir_old, file)\n",
        "  shutil.move(src_file_4, dest_file_4)\n",
        "\n",
        "\n",
        "train_dest_dir_middle = '/content/drive/MyDrive/Colab_Notebooks/Images/Train/middle_age'\n",
        "\n",
        "if not os.path.exists(train_dest_dir_middle):\n",
        "  os.makedirs(train_dest_dir_middle)\n",
        "\n",
        "file_list5 = [f for f in os.listdir(source_dir_middle) if f.endswith('.jpg')]\n",
        "\n",
        "num_files5 = int(len(file_list5) * 1)\n",
        "\n",
        "files_to_move5 = random.sample(file_list5, num_files5)\n",
        "\n",
        "for file in files_to_move5:\n",
        "  src_file_5 = os.path.join(source_dir_middle, file)\n",
        "  dest_file_5 = os.path.join(train_dest_dir_middle, file)\n",
        "  shutil.move(src_file_5, dest_file_5)\n",
        "\n",
        "\n",
        "train_dest_dir_young = '/content/drive/MyDrive/Colab_Notebooks/Images/Train/young_age'\n",
        "\n",
        "if not os.path.exists(train_dest_dir_young):\n",
        "  os.makedirs(train_dest_dir_young)\n",
        "\n",
        "file_list6 = [f for f in os.listdir(source_dir_young) if f.endswith('.jpg')]\n",
        "\n",
        "num_files6 = int(len(file_list6) * 0.1)\n",
        "\n",
        "files_to_move6 = random.sample(file_list6, num_files6)\n",
        "\n",
        "for file in files_to_move6:\n",
        "  src_file_6 = os.path.join(source_dir_young, file)\n",
        "  dest_file_6 = os.path.join(train_dest_dir_young, file)\n",
        "  shutil.move(src_file_6, dest_file_6)\n",
        "\n",
        "#Validation Folder\n",
        "\n",
        "# Splitting from the train folder for the validation folder\n",
        "train_source_dir_old = '/content/drive/MyDrive/Colab_Notebooks/Images/Train/old_age'\n",
        "train_source_dir_middle = '/content/drive/MyDrive/Colab_Notebooks/Images/Train/middle_age'\n",
        "train_source_dir_young = '/content/drive/MyDrive/Colab_Notebooks/Images/Train/young_age'\n",
        "\n",
        "val_dest_dir_old = '/content/drive/MyDrive/Colab_Notebooks/Images/Val/old_age'\n",
        "\n",
        "if not os.path.exists(val_dest_dir_old):\n",
        "  os.makedirs(val_dest_dir_old)\n",
        "\n",
        "file_list7 = [f for f in os.listdir(train_source_dir_old) if f.endswith('.jpg')]\n",
        "\n",
        "num_files7 = int(len(file_list7) * 0.1)\n",
        "\n",
        "files_to_move7 = random.sample(file_list7, num_files7)\n",
        "\n",
        "for file in files_to_move7:\n",
        "  src_file_7 = os.path.join(train_source_dir_old, file)\n",
        "  dest_file_7 = os.path.join(val_dest_dir_old, file)\n",
        "  shutil.move(src_file_7, dest_file_7)\n",
        "\n",
        "\n",
        "val_dest_dir_middle = '/content/drive/MyDrive/Colab_Notebooks/Images/Val/middle_age'\n",
        "\n",
        "if not os.path.exists(val_dest_dir_middle):\n",
        "  os.makedirs(val_dest_dir_middle)\n",
        "\n",
        "file_list8 = [f for f in os.listdir(train_source_dir_middle) if f.endswith('.jpg')]\n",
        "\n",
        "num_files8 = int(len(file_list8) * 0.1)\n",
        "\n",
        "files_to_move8 = random.sample(file_list8, num_files8)\n",
        "\n",
        "for file in files_to_move8:\n",
        "  src_file_8 = os.path.join(train_source_dir_middle, file)\n",
        "  dest_file_8 = os.path.join(val_dest_dir_middle, file)\n",
        "  shutil.move(src_file_8, dest_file_8)\n",
        "\n",
        "\n",
        "val_dest_dir_young = '/content/drive/MyDrive/Colab_Notebooks/Images/Val/young_age'\n",
        "\n",
        "if not os.path.exists(val_dest_dir_young):\n",
        "  os.makedirs(val_dest_dir_young)\n",
        "\n",
        "file_list9 = [f for f in os.listdir(train_source_dir_young) if f.endswith('.jpg')]\n",
        "\n",
        "num_files9 = int(len(file_list9) * 0.1)\n",
        "\n",
        "files_to_move9 = random.sample(file_list9, num_files9)\n",
        "\n",
        "for file in files_to_move9:\n",
        "  src_file_9 = os.path.join(train_source_dir_young, file)\n",
        "  dest_file_9 = os.path.join(val_dest_dir_young, file)\n",
        "  shutil.move(src_file_9, dest_file_9)"
      ]
    },
    {
      "cell_type": "code",
      "execution_count": 4,
      "metadata": {
        "id": "YXx46pAoWUuh"
      },
      "outputs": [],
      "source": [
        "# Creating directories for the train, test, and validation folders\n",
        "train_dir = '/content/drive/MyDrive/Colab_Notebooks/Images/Train'\n",
        "test_dir = '/content/drive/MyDrive/Colab_Notebooks/Images/Test'\n",
        "val_dir = '/content/drive/MyDrive/Colab_Notebooks/Images/Val'"
      ]
    },
    {
      "cell_type": "code",
      "execution_count": null,
      "metadata": {
        "colab": {
          "base_uri": "https://localhost:8080/",
          "height": 424
        },
        "id": "OECsNKTPXH8k",
        "outputId": "f6ae341f-aa7f-4518-8758-17bf63f7cedb"
      },
      "outputs": [
        {
          "data": {
            "text/html": [
              "\n",
              "  <div id=\"df-8939002a-2eb4-48e1-a8f8-88f40641e241\">\n",
              "    <div class=\"colab-df-container\">\n",
              "      <div>\n",
              "<style scoped>\n",
              "    .dataframe tbody tr th:only-of-type {\n",
              "        vertical-align: middle;\n",
              "    }\n",
              "\n",
              "    .dataframe tbody tr th {\n",
              "        vertical-align: top;\n",
              "    }\n",
              "\n",
              "    .dataframe thead th {\n",
              "        text-align: right;\n",
              "    }\n",
              "</style>\n",
              "<table border=\"1\" class=\"dataframe\">\n",
              "  <thead>\n",
              "    <tr style=\"text-align: right;\">\n",
              "      <th></th>\n",
              "      <th>filename</th>\n",
              "      <th>age</th>\n",
              "    </tr>\n",
              "  </thead>\n",
              "  <tbody>\n",
              "    <tr>\n",
              "      <th>0</th>\n",
              "      <td>young_22_0_0_20170104214301269.jpg</td>\n",
              "      <td>young_age</td>\n",
              "    </tr>\n",
              "    <tr>\n",
              "      <th>1</th>\n",
              "      <td>young_28_0_3_20170104215712759.jpg</td>\n",
              "      <td>young_age</td>\n",
              "    </tr>\n",
              "    <tr>\n",
              "      <th>2</th>\n",
              "      <td>young_28_0_3_20170104220743173.jpg</td>\n",
              "      <td>young_age</td>\n",
              "    </tr>\n",
              "    <tr>\n",
              "      <th>3</th>\n",
              "      <td>young_27_1_3_20170104223405095.jpg</td>\n",
              "      <td>young_age</td>\n",
              "    </tr>\n",
              "    <tr>\n",
              "      <th>4</th>\n",
              "      <td>young_10_1_3_20170104221633430.jpg</td>\n",
              "      <td>young_age</td>\n",
              "    </tr>\n",
              "    <tr>\n",
              "      <th>...</th>\n",
              "      <td>...</td>\n",
              "      <td>...</td>\n",
              "    </tr>\n",
              "    <tr>\n",
              "      <th>4026</th>\n",
              "      <td>old_65_0_0_20170111195233409.jpg</td>\n",
              "      <td>old_age</td>\n",
              "    </tr>\n",
              "    <tr>\n",
              "      <th>4027</th>\n",
              "      <td>old_65_0_0_20170111195430569.jpg</td>\n",
              "      <td>old_age</td>\n",
              "    </tr>\n",
              "    <tr>\n",
              "      <th>4028</th>\n",
              "      <td>old_72_0_0_20170111195358992.jpg</td>\n",
              "      <td>old_age</td>\n",
              "    </tr>\n",
              "    <tr>\n",
              "      <th>4029</th>\n",
              "      <td>old_65_0_0_20170111195412945.jpg</td>\n",
              "      <td>old_age</td>\n",
              "    </tr>\n",
              "    <tr>\n",
              "      <th>4030</th>\n",
              "      <td>old_66_0_1_20170111195703017.jpg</td>\n",
              "      <td>old_age</td>\n",
              "    </tr>\n",
              "  </tbody>\n",
              "</table>\n",
              "<p>4031 rows × 2 columns</p>\n",
              "</div>\n",
              "      <button class=\"colab-df-convert\" onclick=\"convertToInteractive('df-8939002a-2eb4-48e1-a8f8-88f40641e241')\"\n",
              "              title=\"Convert this dataframe to an interactive table.\"\n",
              "              style=\"display:none;\">\n",
              "        \n",
              "  <svg xmlns=\"http://www.w3.org/2000/svg\" height=\"24px\"viewBox=\"0 0 24 24\"\n",
              "       width=\"24px\">\n",
              "    <path d=\"M0 0h24v24H0V0z\" fill=\"none\"/>\n",
              "    <path d=\"M18.56 5.44l.94 2.06.94-2.06 2.06-.94-2.06-.94-.94-2.06-.94 2.06-2.06.94zm-11 1L8.5 8.5l.94-2.06 2.06-.94-2.06-.94L8.5 2.5l-.94 2.06-2.06.94zm10 10l.94 2.06.94-2.06 2.06-.94-2.06-.94-.94-2.06-.94 2.06-2.06.94z\"/><path d=\"M17.41 7.96l-1.37-1.37c-.4-.4-.92-.59-1.43-.59-.52 0-1.04.2-1.43.59L10.3 9.45l-7.72 7.72c-.78.78-.78 2.05 0 2.83L4 21.41c.39.39.9.59 1.41.59.51 0 1.02-.2 1.41-.59l7.78-7.78 2.81-2.81c.8-.78.8-2.07 0-2.86zM5.41 20L4 18.59l7.72-7.72 1.47 1.35L5.41 20z\"/>\n",
              "  </svg>\n",
              "      </button>\n",
              "      \n",
              "  <style>\n",
              "    .colab-df-container {\n",
              "      display:flex;\n",
              "      flex-wrap:wrap;\n",
              "      gap: 12px;\n",
              "    }\n",
              "\n",
              "    .colab-df-convert {\n",
              "      background-color: #E8F0FE;\n",
              "      border: none;\n",
              "      border-radius: 50%;\n",
              "      cursor: pointer;\n",
              "      display: none;\n",
              "      fill: #1967D2;\n",
              "      height: 32px;\n",
              "      padding: 0 0 0 0;\n",
              "      width: 32px;\n",
              "    }\n",
              "\n",
              "    .colab-df-convert:hover {\n",
              "      background-color: #E2EBFA;\n",
              "      box-shadow: 0px 1px 2px rgba(60, 64, 67, 0.3), 0px 1px 3px 1px rgba(60, 64, 67, 0.15);\n",
              "      fill: #174EA6;\n",
              "    }\n",
              "\n",
              "    [theme=dark] .colab-df-convert {\n",
              "      background-color: #3B4455;\n",
              "      fill: #D2E3FC;\n",
              "    }\n",
              "\n",
              "    [theme=dark] .colab-df-convert:hover {\n",
              "      background-color: #434B5C;\n",
              "      box-shadow: 0px 1px 3px 1px rgba(0, 0, 0, 0.15);\n",
              "      filter: drop-shadow(0px 1px 2px rgba(0, 0, 0, 0.3));\n",
              "      fill: #FFFFFF;\n",
              "    }\n",
              "  </style>\n",
              "\n",
              "      <script>\n",
              "        const buttonEl =\n",
              "          document.querySelector('#df-8939002a-2eb4-48e1-a8f8-88f40641e241 button.colab-df-convert');\n",
              "        buttonEl.style.display =\n",
              "          google.colab.kernel.accessAllowed ? 'block' : 'none';\n",
              "\n",
              "        async function convertToInteractive(key) {\n",
              "          const element = document.querySelector('#df-8939002a-2eb4-48e1-a8f8-88f40641e241');\n",
              "          const dataTable =\n",
              "            await google.colab.kernel.invokeFunction('convertToInteractive',\n",
              "                                                     [key], {});\n",
              "          if (!dataTable) return;\n",
              "\n",
              "          const docLinkHtml = 'Like what you see? Visit the ' +\n",
              "            '<a target=\"_blank\" href=https://colab.research.google.com/notebooks/data_table.ipynb>data table notebook</a>'\n",
              "            + ' to learn more about interactive tables.';\n",
              "          element.innerHTML = '';\n",
              "          dataTable['output_type'] = 'display_data';\n",
              "          await google.colab.output.renderOutput(dataTable, element);\n",
              "          const docLink = document.createElement('div');\n",
              "          docLink.innerHTML = docLinkHtml;\n",
              "          element.appendChild(docLink);\n",
              "        }\n",
              "      </script>\n",
              "    </div>\n",
              "  </div>\n",
              "  "
            ],
            "text/plain": [
              "                                filename        age\n",
              "0     young_22_0_0_20170104214301269.jpg  young_age\n",
              "1     young_28_0_3_20170104215712759.jpg  young_age\n",
              "2     young_28_0_3_20170104220743173.jpg  young_age\n",
              "3     young_27_1_3_20170104223405095.jpg  young_age\n",
              "4     young_10_1_3_20170104221633430.jpg  young_age\n",
              "...                                  ...        ...\n",
              "4026    old_65_0_0_20170111195233409.jpg    old_age\n",
              "4027    old_65_0_0_20170111195430569.jpg    old_age\n",
              "4028    old_72_0_0_20170111195358992.jpg    old_age\n",
              "4029    old_65_0_0_20170111195412945.jpg    old_age\n",
              "4030    old_66_0_1_20170111195703017.jpg    old_age\n",
              "\n",
              "[4031 rows x 2 columns]"
            ]
          },
          "execution_count": 26,
          "metadata": {},
          "output_type": "execute_result"
        }
      ],
      "source": [
        "# Printing out DataFrame\n",
        "df"
      ]
    },
    {
      "cell_type": "code",
      "execution_count": 5,
      "metadata": {
        "colab": {
          "base_uri": "https://localhost:8080/"
        },
        "id": "b-hS9hU0bb5E",
        "outputId": "6545c2c5-ad24-4aba-ffab-6d6922c54c50"
      },
      "outputs": [
        {
          "output_type": "stream",
          "name": "stdout",
          "text": [
            "Found 3268 images belonging to 3 classes.\n",
            "Found 361 images belonging to 3 classes.\n",
            "Found 402 images belonging to 3 classes.\n"
          ]
        }
      ],
      "source": [
        "# Creating image data generators for training, validation, and testing sets\n",
        "train_datagen = ImageDataGenerator(rescale=1./255)\n",
        "val_datagen = ImageDataGenerator(rescale=1./255)\n",
        "test_datagen = ImageDataGenerator(rescale=1./255)\n",
        "\n",
        "train_generator = train_datagen.flow_from_directory(\n",
        "    directory=train_dir,\n",
        "    target_size=(128, 128),\n",
        "    batch_size=64,\n",
        "    class_mode='categorical',\n",
        "    shuffle=True)\n",
        "\n",
        "validation_generator = val_datagen.flow_from_directory(\n",
        "    directory=val_dir,\n",
        "    target_size=(128, 128),\n",
        "    batch_size=64,\n",
        "    class_mode='categorical',\n",
        "    shuffle=False)\n",
        "\n",
        "test_generator = test_datagen.flow_from_directory(\n",
        "    directory=test_dir,\n",
        "    target_size=(128, 128),\n",
        "    batch_size=64,\n",
        "    class_mode='categorical',\n",
        "    shuffle=False)"
      ]
    },
    {
      "cell_type": "code",
      "execution_count": 6,
      "metadata": {
        "colab": {
          "base_uri": "https://localhost:8080/"
        },
        "id": "vC9uE91bckZ_",
        "outputId": "6bba634c-efd5-4a22-b058-639deb8be015"
      },
      "outputs": [
        {
          "output_type": "stream",
          "name": "stdout",
          "text": [
            "{'middle_age': 0, 'old_age': 1, 'young_age': 2}\n",
            "{'middle_age': 0, 'old_age': 1, 'young_age': 2}\n",
            "{'middle_age': 0, 'old_age': 1, 'young_age': 2}\n"
          ]
        }
      ],
      "source": [
        "# Printing the class indices, but the classes are out of order\n",
        "print(train_generator.class_indices)\n",
        "print(validation_generator.class_indices)\n",
        "print(test_generator.class_indices)"
      ]
    },
    {
      "cell_type": "code",
      "execution_count": 7,
      "metadata": {
        "colab": {
          "base_uri": "https://localhost:8080/"
        },
        "id": "lHVik0uZc4qD",
        "outputId": "b87b85d1-699b-4434-ee48-a2956e803b85"
      },
      "outputs": [
        {
          "output_type": "stream",
          "name": "stdout",
          "text": [
            "{'young_age': 0, 'middle_age': 1, 'old_age': 2}\n",
            "{'young_age': 0, 'middle_age': 1, 'old_age': 2}\n",
            "{'young_age': 0, 'middle_age': 1, 'old_age': 2}\n"
          ]
        }
      ],
      "source": [
        "# Fixing the order of the class indices\n",
        "new_class_indices = {'young_age': 0, 'middle_age': 1, 'old_age': 2}\n",
        "\n",
        "train_generator.class_indices = new_class_indices\n",
        "test_generator.class_indices = new_class_indices\n",
        "validation_generator.class_indices = new_class_indices\n",
        "\n",
        "print(train_generator.class_indices)\n",
        "print(validation_generator.class_indices)\n",
        "print(test_generator.class_indices)"
      ]
    },
    {
      "cell_type": "code",
      "execution_count": 8,
      "metadata": {
        "id": "fwR2i_w3feDl"
      },
      "outputs": [],
      "source": [
        "# Baseline model\n",
        "# Defining the architecture of the model\n",
        "model = models.Sequential()\n",
        "\n",
        "model.add(layers.Conv2D(32, (3, 3), activation='relu',\n",
        "                        input_shape=(128, 128, 3)))\n",
        "model.add(layers.MaxPooling2D((2, 2)))\n",
        "\n",
        "model.add(layers.Conv2D(64, (3, 3), activation='relu'))\n",
        "model.add(layers.MaxPooling2D((2, 2)))\n",
        "\n",
        "model.add(layers.Conv2D(128, (3, 3), activation='relu'))\n",
        "model.add(layers.MaxPooling2D((2, 2)))\n",
        "\n",
        "model.add(layers.Flatten())\n",
        "model.add(layers.Dense(128, activation='relu'))\n",
        "model.add(layers.Dense(3, activation='softmax'))"
      ]
    },
    {
      "cell_type": "code",
      "execution_count": 9,
      "metadata": {
        "colab": {
          "base_uri": "https://localhost:8080/"
        },
        "id": "IhkX9Bupih9Q",
        "outputId": "801c143b-34f3-45a8-8cc8-6346109c02cd"
      },
      "outputs": [
        {
          "output_type": "stream",
          "name": "stdout",
          "text": [
            "Model: \"sequential\"\n",
            "_________________________________________________________________\n",
            " Layer (type)                Output Shape              Param #   \n",
            "=================================================================\n",
            " conv2d (Conv2D)             (None, 126, 126, 32)      896       \n",
            "                                                                 \n",
            " max_pooling2d (MaxPooling2D  (None, 63, 63, 32)       0         \n",
            " )                                                               \n",
            "                                                                 \n",
            " conv2d_1 (Conv2D)           (None, 61, 61, 64)        18496     \n",
            "                                                                 \n",
            " max_pooling2d_1 (MaxPooling  (None, 30, 30, 64)       0         \n",
            " 2D)                                                             \n",
            "                                                                 \n",
            " conv2d_2 (Conv2D)           (None, 28, 28, 128)       73856     \n",
            "                                                                 \n",
            " max_pooling2d_2 (MaxPooling  (None, 14, 14, 128)      0         \n",
            " 2D)                                                             \n",
            "                                                                 \n",
            " flatten (Flatten)           (None, 25088)             0         \n",
            "                                                                 \n",
            " dense (Dense)               (None, 128)               3211392   \n",
            "                                                                 \n",
            " dense_1 (Dense)             (None, 3)                 387       \n",
            "                                                                 \n",
            "=================================================================\n",
            "Total params: 3,305,027\n",
            "Trainable params: 3,305,027\n",
            "Non-trainable params: 0\n",
            "_________________________________________________________________\n"
          ]
        }
      ],
      "source": [
        "# Compiling the model and getting the summary\n",
        "model.compile(loss='categorical_crossentropy',\n",
        "              optimizer= 'adam',\n",
        "              metrics=['acc'])\n",
        "model.summary()"
      ]
    },
    {
      "cell_type": "code",
      "execution_count": 10,
      "metadata": {
        "id": "wsSltWj4k1P1",
        "colab": {
          "base_uri": "https://localhost:8080/"
        },
        "outputId": "2267faea-0c7c-4f05-bc8b-63caf3aecaa4"
      },
      "outputs": [
        {
          "output_type": "stream",
          "name": "stdout",
          "text": [
            "Epoch 1/3000\n",
            "52/52 [==============================] - 1550s 30s/step - loss: 1.1128 - acc: 0.3984 - val_loss: 1.0143 - val_acc: 0.5125\n",
            "Epoch 2/3000\n",
            "52/52 [==============================] - 123s 2s/step - loss: 0.9963 - acc: 0.5193 - val_loss: 0.9591 - val_acc: 0.5706\n",
            "Epoch 3/3000\n",
            "52/52 [==============================] - 108s 2s/step - loss: 0.9306 - acc: 0.5661 - val_loss: 0.9451 - val_acc: 0.5900\n",
            "Epoch 4/3000\n",
            "52/52 [==============================] - 106s 2s/step - loss: 0.8740 - acc: 0.5976 - val_loss: 0.9135 - val_acc: 0.5789\n",
            "Epoch 5/3000\n",
            "52/52 [==============================] - 106s 2s/step - loss: 0.8000 - acc: 0.6509 - val_loss: 0.9378 - val_acc: 0.5900\n",
            "Epoch 6/3000\n",
            "52/52 [==============================] - 126s 2s/step - loss: 0.7273 - acc: 0.6775 - val_loss: 0.9024 - val_acc: 0.6288\n",
            "Epoch 7/3000\n",
            "52/52 [==============================] - 145s 3s/step - loss: 0.6453 - acc: 0.7218 - val_loss: 1.0051 - val_acc: 0.5900\n",
            "Epoch 8/3000\n",
            "52/52 [==============================] - 133s 3s/step - loss: 0.4972 - acc: 0.7928 - val_loss: 1.1896 - val_acc: 0.6205\n",
            "Epoch 9/3000\n",
            "52/52 [==============================] - 123s 2s/step - loss: 0.3662 - acc: 0.8537 - val_loss: 1.2878 - val_acc: 0.5789\n",
            "Epoch 10/3000\n",
            "52/52 [==============================] - 123s 2s/step - loss: 0.2587 - acc: 0.9015 - val_loss: 1.7086 - val_acc: 0.5706\n",
            "Epoch 11/3000\n",
            "52/52 [==============================] - 120s 2s/step - loss: 0.1418 - acc: 0.9529 - val_loss: 2.0277 - val_acc: 0.5956\n"
          ]
        }
      ],
      "source": [
        "# Creating early stopping by looking at the validation accuracy and stopping if the accuracy does not change by .01 for 5 epochs\n",
        "early_stop = EarlyStopping(monitor='val_acc', min_delta=0.01, patience=5)\n",
        "history = model.fit(train_generator,\n",
        "                    steps_per_epoch=len(train_generator),\n",
        "                    epochs= 3000,\n",
        "                    validation_data=validation_generator,\n",
        "                    validation_steps=len(validation_generator),\n",
        "                    verbose=1,\n",
        "                    callbacks=[early_stop])"
      ]
    },
    {
      "cell_type": "code",
      "execution_count": 12,
      "metadata": {
        "id": "DXK3WPApoGbF",
        "colab": {
          "base_uri": "https://localhost:8080/"
        },
        "outputId": "4201fbe6-6dea-488c-d2dd-ddba8e05c880"
      },
      "outputs": [
        {
          "output_type": "stream",
          "name": "stdout",
          "text": [
            "2/2 [==============================] - 0s 216ms/step - loss: 2.2474 - acc: 0.4688\n"
          ]
        }
      ],
      "source": [
        "# Evaluating the model on the test set\n",
        "test_x, test_y = next(test_generator)\n",
        "test_results = model.evaluate(test_x, test_y)"
      ]
    },
    {
      "cell_type": "code",
      "source": [
        "# Creating ROC Curve for the accuracy and the loss\n",
        "acc = history.history['acc']\n",
        "val_acc = history.history['val_acc']\n",
        "loss = history.history['loss']\n",
        "val_loss = history.history['val_loss']\n",
        "\n",
        "plt.figure(figsize=(20,5))\n",
        "plt.subplot(1, 2, 1)\n",
        "plt.plot(history.history['acc'], label='acc')\n",
        "plt.plot(history.history['val_acc'], label='val_acc')\n",
        "plt.legend()\n",
        "\n",
        "plt.subplot(1, 2, 2)\n",
        "plt.plot(history.history['loss'], label= 'loss')\n",
        "plt.plot(history.history['val_loss'], label= 'val_loss')\n",
        "plt.legend();"
      ],
      "metadata": {
        "colab": {
          "base_uri": "https://localhost:8080/",
          "height": 445
        },
        "id": "tArrkt6-ysOk",
        "outputId": "f84832a6-9aa6-4f80-8fbe-1bbf4899fc84"
      },
      "execution_count": 14,
      "outputs": [
        {
          "output_type": "display_data",
          "data": {
            "text/plain": [
              "<Figure size 2000x500 with 2 Axes>"
            ],
            "image/png": "[encoded data removed]"
          },
          "metadata": {}
        }
      ]
    },
    {
      "cell_type": "code",
      "source": [
        "# Plotting if the model predicts well against validation data\n",
        "# Seems like the model is not predicting well\n",
        "epochs = range(len(acc))\n",
        "\n",
        "plt.plot(epochs, acc, 'ro', label='Training Acc')\n",
        "plt.plot(epochs, val_acc, 'r', label='Validation Acc')\n",
        "plt.title('Training/Validation Accuracy')\n",
        "plt.legend()\n",
        "plt.figure()\n",
        "plt.plot(epochs, loss, 'bo', label='Training Loss')\n",
        "plt.plot(epochs, val_loss, 'b', label='Validation Loss')\n",
        "plt.title('Training/Validation Loss')\n",
        "plt.legend();"
      ],
      "metadata": {
        "colab": {
          "base_uri": "https://localhost:8080/",
          "height": 887
        },
        "id": "OwqkpIuBzrYc",
        "outputId": "604a8388-0f23-4b59-ba15-d0b4bd0cb532"
      },
      "execution_count": 15,
      "outputs": [
        {
          "output_type": "display_data",
          "data": {
            "text/plain": [
              "<Figure size 640x480 with 1 Axes>"
            ],
            "image/png": "[encoded data removed]"
          },
          "metadata": {}
        },
        {
          "output_type": "display_data",
          "data": {
            "text/plain": [
              "<Figure size 640x480 with 1 Axes>"
            ],
            "image/png": "[encoded data removed]"
          },
          "metadata": {}
        }
      ]
    },
    {
      "cell_type": "code",
      "source": [
        "# Saving the baseline model\n",
        "model.save('Baseline_CNN_Age_model')"
      ],
      "metadata": {
        "colab": {
          "base_uri": "https://localhost:8080/"
        },
        "id": "9-cMkcZT3raX",
        "outputId": "85f82ff8-4b8a-4239-97aa-0686230606ce"
      },
      "execution_count": 16,
      "outputs": [
        {
          "output_type": "stream",
          "name": "stderr",
          "text": [
            "WARNING:absl:Found untraced functions such as _jit_compiled_convolution_op, _jit_compiled_convolution_op, _jit_compiled_convolution_op, _update_step_xla while saving (showing 4 of 4). These functions will not be directly callable after loading.\n"
          ]
        }
      ]
    },
    {
      "cell_type": "code",
      "source": [
        "# Creating a confusion matrix to see how will the model predicts for each class\n",
        "predict_probs = model.predict(validation_generator)\n",
        "\n",
        "predict_labels = np.argmax(predict_probs, axis=1)\n",
        "\n",
        "true_labels = validation_generator.classes\n",
        "\n",
        "cm = confusion_matrix(true_labels, predict_labels)\n",
        "\n",
        "disp = ConfusionMatrixDisplay(confusion_matrix=cm, display_labels=test_generator.class_indices.keys())\n",
        "fig, ax = plt.subplots(figsize=(10,10))\n",
        "disp.plot(cmap=plt.cm.Greens, ax=ax);"
      ],
      "metadata": {
        "colab": {
          "base_uri": "https://localhost:8080/",
          "height": 824
        },
        "id": "2AYtdBYw4uv9",
        "outputId": "d1bba8f5-4c69-4b8c-cc6b-f73c342a2e3e"
      },
      "execution_count": 18,
      "outputs": [
        {
          "output_type": "stream",
          "name": "stdout",
          "text": [
            "6/6 [==============================] - 5s 861ms/step\n"
          ]
        },
        {
          "output_type": "display_data",
          "data": {
            "text/plain": [
              "<Figure size 1000x1000 with 2 Axes>"
            ],
            "image/png": "[encoded data removed]"
          },
          "metadata": {}
        }
      ]
    },
    {
      "cell_type": "code",
      "source": [
        "# Creating a classification report to get the precision, recall, and f1-score\n",
        "class_names = list(test_generator.class_indices.keys())\n",
        "\n",
        "class_report = classification_report(true_labels, predict_labels, target_names=class_names)\n",
        "print(class_report)"
      ],
      "metadata": {
        "colab": {
          "base_uri": "https://localhost:8080/"
        },
        "id": "deNkc69S7ruC",
        "outputId": "35fe5d8b-dc32-476d-c458-849d19d21717"
      },
      "execution_count": 24,
      "outputs": [
        {
          "output_type": "stream",
          "name": "stdout",
          "text": [
            "              precision    recall  f1-score   support\n",
            "\n",
            "   young_age       0.58      0.53      0.56       126\n",
            "  middle_age       0.61      0.64      0.62       113\n",
            "     old_age       0.60      0.62      0.61       122\n",
            "\n",
            "    accuracy                           0.60       361\n",
            "   macro avg       0.60      0.60      0.60       361\n",
            "weighted avg       0.59      0.60      0.59       361\n",
            "\n"
          ]
        }
      ]
    },
    {
      "cell_type": "code",
      "execution_count": null,
      "metadata": {
        "id": "90kYvpZISURE"
      },
      "outputs": [],
      "source": []
    }
  ],
  "metadata": {
    "colab": {
      "provenance": []
    },
    "kernelspec": {
      "display_name": "Python 3",
      "name": "python3"
    },
    "language_info": {
      "name": "python"
    }
  },
  "nbformat": 4,
  "nbformat_minor": 0
}